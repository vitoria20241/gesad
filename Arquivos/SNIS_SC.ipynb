{
 "cells": [
  {
   "cell_type": "markdown",
   "id": "5ccd313a-0f82-4fb7-b36d-008113187b0b",
   "metadata": {},
   "source": [
    "# Santa Catarina"
   ]
  },
  {
   "cell_type": "code",
   "execution_count": 1,
   "id": "3d1c7bec-5051-43db-bad9-664c684d625b",
   "metadata": {},
   "outputs": [],
   "source": [
    "import pandas as pd"
   ]
  },
  {
   "cell_type": "code",
   "execution_count": 2,
   "id": "811788bc-37e1-4f4f-87a2-9e2b55784cbf",
   "metadata": {},
   "outputs": [
    {
     "data": {
      "text/html": [
       "<div>\n",
       "<style scoped>\n",
       "    .dataframe tbody tr th:only-of-type {\n",
       "        vertical-align: middle;\n",
       "    }\n",
       "\n",
       "    .dataframe tbody tr th {\n",
       "        vertical-align: top;\n",
       "    }\n",
       "\n",
       "    .dataframe thead th {\n",
       "        text-align: right;\n",
       "    }\n",
       "</style>\n",
       "<table border=\"1\" class=\"dataframe\">\n",
       "  <thead>\n",
       "    <tr style=\"text-align: right;\">\n",
       "      <th></th>\n",
       "      <th>Município [-]</th>\n",
       "      <th>Código [-]</th>\n",
       "      <th>Gentílico [-]</th>\n",
       "      <th>Prefeito [2021]</th>\n",
       "      <th>Área Territorial - km² [2022]</th>\n",
       "      <th>População residente - pessoas [2022]</th>\n",
       "      <th>Densidade demográfica - hab/km² [2022]</th>\n",
       "      <th>Escolarização &lt;span&gt;6 a 14 anos&lt;/span&gt; - % [2010]</th>\n",
       "      <th>IDHM &lt;span&gt;Índice de desenvolvimento humano municipal&lt;/span&gt; [2010]</th>\n",
       "      <th>Mortalidade infantil - óbitos por mil nascidos vivos [2022]</th>\n",
       "      <th>Receitas realizadas - R$ (×1000) [2017]</th>\n",
       "      <th>Despesas empenhadas - R$ (×1000) [2017]</th>\n",
       "      <th>PIB per capita - R$ [2021]</th>\n",
       "    </tr>\n",
       "  </thead>\n",
       "  <tbody>\n",
       "    <tr>\n",
       "      <th>0</th>\n",
       "      <td>Abdon Batista</td>\n",
       "      <td>4200051</td>\n",
       "      <td>abdonense</td>\n",
       "      <td>JADIR LUIZ DE SOUZA</td>\n",
       "      <td>237.517</td>\n",
       "      <td>2598</td>\n",
       "      <td>10.94</td>\n",
       "      <td>100</td>\n",
       "      <td>0.694</td>\n",
       "      <td>-</td>\n",
       "      <td>23228.89256</td>\n",
       "      <td>18399.70671</td>\n",
       "      <td>29646.51</td>\n",
       "    </tr>\n",
       "    <tr>\n",
       "      <th>1</th>\n",
       "      <td>Abelardo Luz</td>\n",
       "      <td>4200101</td>\n",
       "      <td>abelardense</td>\n",
       "      <td>NERCI SANTIN</td>\n",
       "      <td>953.992</td>\n",
       "      <td>17392</td>\n",
       "      <td>18.23</td>\n",
       "      <td>97.1</td>\n",
       "      <td>0.696</td>\n",
       "      <td>15.38</td>\n",
       "      <td>62978.76490</td>\n",
       "      <td>54531.83536</td>\n",
       "      <td>43621.44</td>\n",
       "    </tr>\n",
       "    <tr>\n",
       "      <th>2</th>\n",
       "      <td>Agrolândia</td>\n",
       "      <td>4200200</td>\n",
       "      <td>agrolandense</td>\n",
       "      <td>JOSÉ CONSTANTE</td>\n",
       "      <td>206.815</td>\n",
       "      <td>10990</td>\n",
       "      <td>53.14</td>\n",
       "      <td>97</td>\n",
       "      <td>0.725</td>\n",
       "      <td>6.99</td>\n",
       "      <td>31019.33416</td>\n",
       "      <td>28123.29815</td>\n",
       "      <td>35492.31</td>\n",
       "    </tr>\n",
       "    <tr>\n",
       "      <th>3</th>\n",
       "      <td>Agronômica</td>\n",
       "      <td>4200309</td>\n",
       "      <td>agronomense</td>\n",
       "      <td>CESAR LUIZ CUNHA</td>\n",
       "      <td>129.774</td>\n",
       "      <td>6055</td>\n",
       "      <td>46.66</td>\n",
       "      <td>94.4</td>\n",
       "      <td>0.741</td>\n",
       "      <td>-</td>\n",
       "      <td>20069.01248</td>\n",
       "      <td>17786.64890</td>\n",
       "      <td>41807.92</td>\n",
       "    </tr>\n",
       "    <tr>\n",
       "      <th>4</th>\n",
       "      <td>Água Doce</td>\n",
       "      <td>4200408</td>\n",
       "      <td>água-docense</td>\n",
       "      <td>NELCI FÁTIMA TRENTO BORTOLINI</td>\n",
       "      <td>1319.137</td>\n",
       "      <td>6508</td>\n",
       "      <td>4.93</td>\n",
       "      <td>97.9</td>\n",
       "      <td>0.698</td>\n",
       "      <td>11.63</td>\n",
       "      <td>36852.27110</td>\n",
       "      <td>29718.55841</td>\n",
       "      <td>90930.69</td>\n",
       "    </tr>\n",
       "  </tbody>\n",
       "</table>\n",
       "</div>"
      ],
      "text/plain": [
       "   Município [-]  Código [-] Gentílico [-]                Prefeito [2021]  \\\n",
       "0  Abdon Batista     4200051     abdonense            JADIR LUIZ DE SOUZA   \n",
       "1   Abelardo Luz     4200101   abelardense                   NERCI SANTIN   \n",
       "2     Agrolândia     4200200  agrolandense                 JOSÉ CONSTANTE   \n",
       "3     Agronômica     4200309   agronomense               CESAR LUIZ CUNHA   \n",
       "4      Água Doce     4200408  água-docense  NELCI FÁTIMA TRENTO BORTOLINI   \n",
       "\n",
       "   Área Territorial - km² [2022]  População residente - pessoas [2022]  \\\n",
       "0                        237.517                                  2598   \n",
       "1                        953.992                                 17392   \n",
       "2                        206.815                                 10990   \n",
       "3                        129.774                                  6055   \n",
       "4                       1319.137                                  6508   \n",
       "\n",
       "   Densidade demográfica - hab/km² [2022]  \\\n",
       "0                                   10.94   \n",
       "1                                   18.23   \n",
       "2                                   53.14   \n",
       "3                                   46.66   \n",
       "4                                    4.93   \n",
       "\n",
       "  Escolarização <span>6 a 14 anos</span> - % [2010]  \\\n",
       "0                                               100   \n",
       "1                                              97.1   \n",
       "2                                                97   \n",
       "3                                              94.4   \n",
       "4                                              97.9   \n",
       "\n",
       "  IDHM <span>Índice de desenvolvimento humano municipal</span> [2010]  \\\n",
       "0                                              0.694                    \n",
       "1                                              0.696                    \n",
       "2                                              0.725                    \n",
       "3                                              0.741                    \n",
       "4                                              0.698                    \n",
       "\n",
       "  Mortalidade infantil - óbitos por mil nascidos vivos [2022]  \\\n",
       "0                                                  -            \n",
       "1                                              15.38            \n",
       "2                                               6.99            \n",
       "3                                                  -            \n",
       "4                                              11.63            \n",
       "\n",
       "   Receitas realizadas - R$ (×1000) [2017]  \\\n",
       "0                              23228.89256   \n",
       "1                              62978.76490   \n",
       "2                              31019.33416   \n",
       "3                              20069.01248   \n",
       "4                              36852.27110   \n",
       "\n",
       "   Despesas empenhadas - R$ (×1000) [2017]  PIB per capita - R$ [2021]  \n",
       "0                              18399.70671                    29646.51  \n",
       "1                              54531.83536                    43621.44  \n",
       "2                              28123.29815                    35492.31  \n",
       "3                              17786.64890                    41807.92  \n",
       "4                              29718.55841                    90930.69  "
      ]
     },
     "execution_count": 2,
     "metadata": {},
     "output_type": "execute_result"
    }
   ],
   "source": [
    "df = pd.read_csv(\"C:\\\\GESAD\\\\Inputs\\\\IBGE_SC.csv\")\n",
    "df.head()"
   ]
  },
  {
   "cell_type": "code",
   "execution_count": 3,
   "id": "37f94123-e02e-4171-952d-23302c6e119f",
   "metadata": {},
   "outputs": [
    {
     "name": "stdout",
     "output_type": "stream",
     "text": [
      "7610361 295\n"
     ]
    }
   ],
   "source": [
    "pop = df['População residente - pessoas [2022]'].sum() # população total\n",
    "mun = len(df['Município [-]']) # total de municípios\n",
    "print(pop, mun)"
   ]
  },
  {
   "cell_type": "code",
   "execution_count": 4,
   "id": "87ae4af0-da68-49f9-95f7-9dc967ab7877",
   "metadata": {},
   "outputs": [
    {
     "data": {
      "text/plain": [
       "29.13842063471102"
      ]
     },
     "execution_count": 4,
     "metadata": {},
     "output_type": "execute_result"
    }
   ],
   "source": [
    "# ES001 - População total atendida com esgotamento sanitário\n",
    "#florianopolis = 346873\n",
    "total2022 =  2217539\n",
    "atendimento = (total2022/pop)*100\n",
    "atendimento"
   ]
  },
  {
   "cell_type": "code",
   "execution_count": 5,
   "id": "1b0baf4b-ed90-4fd8-a112-ea169c2746be",
   "metadata": {},
   "outputs": [
    {
     "data": {
      "text/plain": [
       "3084.2677966101696"
      ]
     },
     "execution_count": 5,
     "metadata": {},
     "output_type": "execute_result"
    }
   ],
   "source": [
    "# ES003 - Quantidade de economias ativas de esgotos\n",
    "#florianopolis =  149578\n",
    "total2022 = 909859\n",
    "\n",
    "media = total2022/mun\n",
    "media"
   ]
  }
 ],
 "metadata": {
  "kernelspec": {
   "display_name": "Python 3 (ipykernel)",
   "language": "python",
   "name": "python3"
  },
  "language_info": {
   "codemirror_mode": {
    "name": "ipython",
    "version": 3
   },
   "file_extension": ".py",
   "mimetype": "text/x-python",
   "name": "python",
   "nbconvert_exporter": "python",
   "pygments_lexer": "ipython3",
   "version": "3.12.3"
  }
 },
 "nbformat": 4,
 "nbformat_minor": 5
}
